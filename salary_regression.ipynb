{
 "cells": [
  {
   "cell_type": "code",
   "execution_count": 1,
   "metadata": {},
   "outputs": [],
   "source": [
    "import pandas as pd\n",
    "import numpy as np \n",
    "from sklearn.model_selection import train_test_split\n",
    "from sklearn.preprocessing import StandardScaler, LabelEncoder, OneHotEncoder\n",
    "import pickle"
   ]
  },
  {
   "cell_type": "code",
   "execution_count": 2,
   "metadata": {},
   "outputs": [
    {
     "data": {
      "text/html": [
       "<div>\n",
       "<style scoped>\n",
       "    .dataframe tbody tr th:only-of-type {\n",
       "        vertical-align: middle;\n",
       "    }\n",
       "\n",
       "    .dataframe tbody tr th {\n",
       "        vertical-align: top;\n",
       "    }\n",
       "\n",
       "    .dataframe thead th {\n",
       "        text-align: right;\n",
       "    }\n",
       "</style>\n",
       "<table border=\"1\" class=\"dataframe\">\n",
       "  <thead>\n",
       "    <tr style=\"text-align: right;\">\n",
       "      <th></th>\n",
       "      <th>RowNumber</th>\n",
       "      <th>CustomerId</th>\n",
       "      <th>Surname</th>\n",
       "      <th>CreditScore</th>\n",
       "      <th>Geography</th>\n",
       "      <th>Gender</th>\n",
       "      <th>Age</th>\n",
       "      <th>Tenure</th>\n",
       "      <th>Balance</th>\n",
       "      <th>NumOfProducts</th>\n",
       "      <th>HasCrCard</th>\n",
       "      <th>IsActiveMember</th>\n",
       "      <th>EstimatedSalary</th>\n",
       "      <th>Exited</th>\n",
       "    </tr>\n",
       "  </thead>\n",
       "  <tbody>\n",
       "    <tr>\n",
       "      <th>0</th>\n",
       "      <td>1</td>\n",
       "      <td>15634602</td>\n",
       "      <td>Hargrave</td>\n",
       "      <td>619</td>\n",
       "      <td>France</td>\n",
       "      <td>Female</td>\n",
       "      <td>42</td>\n",
       "      <td>2</td>\n",
       "      <td>0.00</td>\n",
       "      <td>1</td>\n",
       "      <td>1</td>\n",
       "      <td>1</td>\n",
       "      <td>101348.88</td>\n",
       "      <td>1</td>\n",
       "    </tr>\n",
       "    <tr>\n",
       "      <th>1</th>\n",
       "      <td>2</td>\n",
       "      <td>15647311</td>\n",
       "      <td>Hill</td>\n",
       "      <td>608</td>\n",
       "      <td>Spain</td>\n",
       "      <td>Female</td>\n",
       "      <td>41</td>\n",
       "      <td>1</td>\n",
       "      <td>83807.86</td>\n",
       "      <td>1</td>\n",
       "      <td>0</td>\n",
       "      <td>1</td>\n",
       "      <td>112542.58</td>\n",
       "      <td>0</td>\n",
       "    </tr>\n",
       "    <tr>\n",
       "      <th>2</th>\n",
       "      <td>3</td>\n",
       "      <td>15619304</td>\n",
       "      <td>Onio</td>\n",
       "      <td>502</td>\n",
       "      <td>France</td>\n",
       "      <td>Female</td>\n",
       "      <td>42</td>\n",
       "      <td>8</td>\n",
       "      <td>159660.80</td>\n",
       "      <td>3</td>\n",
       "      <td>1</td>\n",
       "      <td>0</td>\n",
       "      <td>113931.57</td>\n",
       "      <td>1</td>\n",
       "    </tr>\n",
       "  </tbody>\n",
       "</table>\n",
       "</div>"
      ],
      "text/plain": [
       "   RowNumber  CustomerId   Surname  CreditScore Geography  Gender  Age  \\\n",
       "0          1    15634602  Hargrave          619    France  Female   42   \n",
       "1          2    15647311      Hill          608     Spain  Female   41   \n",
       "2          3    15619304      Onio          502    France  Female   42   \n",
       "\n",
       "   Tenure    Balance  NumOfProducts  HasCrCard  IsActiveMember  \\\n",
       "0       2       0.00              1          1               1   \n",
       "1       1   83807.86              1          0               1   \n",
       "2       8  159660.80              3          1               0   \n",
       "\n",
       "   EstimatedSalary  Exited  \n",
       "0        101348.88       1  \n",
       "1        112542.58       0  \n",
       "2        113931.57       1  "
      ]
     },
     "execution_count": 2,
     "metadata": {},
     "output_type": "execute_result"
    }
   ],
   "source": [
    "data = pd.read_csv('Churn_Modelling.csv')\n",
    "data.head(3)"
   ]
  },
  {
   "cell_type": "code",
   "execution_count": 3,
   "metadata": {},
   "outputs": [],
   "source": [
    "# Preprocessing the data\n",
    "data.drop(columns=['RowNumber', 'CustomerId', 'Surname'], axis=1, inplace=True)"
   ]
  },
  {
   "cell_type": "code",
   "execution_count": 4,
   "metadata": {},
   "outputs": [],
   "source": [
    "# Encode categorical variables\n",
    "labelencoder_gender = LabelEncoder()\n",
    "data['Gender'] = labelencoder_gender.fit_transform(data['Gender'])"
   ]
  },
  {
   "cell_type": "code",
   "execution_count": 5,
   "metadata": {},
   "outputs": [],
   "source": [
    "# One Hot Encoding\n",
    "encoder_onehot_geography = OneHotEncoder()\n",
    "geo_encoder = encoder_onehot_geography.fit_transform(data[['Geography']])\n",
    "geo_encoded_df = pd.DataFrame(geo_encoder.toarray(), columns=encoder_onehot_geography.get_feature_names_out(['Geography']))"
   ]
  },
  {
   "cell_type": "code",
   "execution_count": 6,
   "metadata": {},
   "outputs": [],
   "source": [
    "# combining data \n",
    "data = pd.concat([data.drop('Geography', axis=1),geo_encoded_df],axis=1)"
   ]
  },
  {
   "cell_type": "code",
   "execution_count": 7,
   "metadata": {},
   "outputs": [
    {
     "data": {
      "text/html": [
       "<div>\n",
       "<style scoped>\n",
       "    .dataframe tbody tr th:only-of-type {\n",
       "        vertical-align: middle;\n",
       "    }\n",
       "\n",
       "    .dataframe tbody tr th {\n",
       "        vertical-align: top;\n",
       "    }\n",
       "\n",
       "    .dataframe thead th {\n",
       "        text-align: right;\n",
       "    }\n",
       "</style>\n",
       "<table border=\"1\" class=\"dataframe\">\n",
       "  <thead>\n",
       "    <tr style=\"text-align: right;\">\n",
       "      <th></th>\n",
       "      <th>CreditScore</th>\n",
       "      <th>Gender</th>\n",
       "      <th>Age</th>\n",
       "      <th>Tenure</th>\n",
       "      <th>Balance</th>\n",
       "      <th>NumOfProducts</th>\n",
       "      <th>HasCrCard</th>\n",
       "      <th>IsActiveMember</th>\n",
       "      <th>EstimatedSalary</th>\n",
       "      <th>Exited</th>\n",
       "      <th>Geography_France</th>\n",
       "      <th>Geography_Germany</th>\n",
       "      <th>Geography_Spain</th>\n",
       "    </tr>\n",
       "  </thead>\n",
       "  <tbody>\n",
       "    <tr>\n",
       "      <th>0</th>\n",
       "      <td>619</td>\n",
       "      <td>0</td>\n",
       "      <td>42</td>\n",
       "      <td>2</td>\n",
       "      <td>0.00</td>\n",
       "      <td>1</td>\n",
       "      <td>1</td>\n",
       "      <td>1</td>\n",
       "      <td>101348.88</td>\n",
       "      <td>1</td>\n",
       "      <td>1.0</td>\n",
       "      <td>0.0</td>\n",
       "      <td>0.0</td>\n",
       "    </tr>\n",
       "    <tr>\n",
       "      <th>1</th>\n",
       "      <td>608</td>\n",
       "      <td>0</td>\n",
       "      <td>41</td>\n",
       "      <td>1</td>\n",
       "      <td>83807.86</td>\n",
       "      <td>1</td>\n",
       "      <td>0</td>\n",
       "      <td>1</td>\n",
       "      <td>112542.58</td>\n",
       "      <td>0</td>\n",
       "      <td>0.0</td>\n",
       "      <td>0.0</td>\n",
       "      <td>1.0</td>\n",
       "    </tr>\n",
       "  </tbody>\n",
       "</table>\n",
       "</div>"
      ],
      "text/plain": [
       "   CreditScore  Gender  Age  Tenure   Balance  NumOfProducts  HasCrCard  \\\n",
       "0          619       0   42       2      0.00              1          1   \n",
       "1          608       0   41       1  83807.86              1          0   \n",
       "\n",
       "   IsActiveMember  EstimatedSalary  Exited  Geography_France  \\\n",
       "0               1        101348.88       1               1.0   \n",
       "1               1        112542.58       0               0.0   \n",
       "\n",
       "   Geography_Germany  Geography_Spain  \n",
       "0                0.0              0.0  \n",
       "1                0.0              1.0  "
      ]
     },
     "execution_count": 7,
     "metadata": {},
     "output_type": "execute_result"
    }
   ],
   "source": [
    "data.head(2)"
   ]
  },
  {
   "cell_type": "code",
   "execution_count": 8,
   "metadata": {},
   "outputs": [],
   "source": [
    "# split the data into features and target\n",
    "X = data.drop('EstimatedSalary', axis=1)\n",
    "y = data['EstimatedSalary']"
   ]
  },
  {
   "cell_type": "code",
   "execution_count": 11,
   "metadata": {},
   "outputs": [],
   "source": [
    "X_train, X_test, y_train, y_test = train_test_split(X, y, test_size=0.3, random_state=42)"
   ]
  },
  {
   "cell_type": "code",
   "execution_count": 12,
   "metadata": {},
   "outputs": [],
   "source": [
    "scaler = StandardScaler()\n",
    "X_train = scaler.fit_transform(X_train)\n",
    "X_test = scaler.transform(X_test)"
   ]
  },
  {
   "cell_type": "code",
   "execution_count": 13,
   "metadata": {},
   "outputs": [],
   "source": [
    "# Save the Encoders\n",
    "with open('labelencoder_gender.pkl','wb') as file:\n",
    "    pickle.dump(labelencoder_gender, file)\n",
    "\n",
    "with open('OneHotEncoder_Geography', 'wb') as file:\n",
    "    pickle.dump(encoder_onehot_geography, file)\n",
    "\n",
    "# saving scaler\n",
    "with open('scaler.pkl', 'wb') as file:\n",
    "    pickle.dump(scaler, file)"
   ]
  },
  {
   "cell_type": "markdown",
   "metadata": {},
   "source": [
    "## ANN Regression"
   ]
  },
  {
   "cell_type": "markdown",
   "metadata": {},
   "source": [
    "##"
   ]
  },
  {
   "cell_type": "code",
   "execution_count": 15,
   "metadata": {},
   "outputs": [],
   "source": [
    "import tensorflow as tf\n",
    "from tensorflow.keras.models import Sequential\n",
    "from tensorflow.keras.layers import Dense"
   ]
  },
  {
   "cell_type": "code",
   "execution_count": 20,
   "metadata": {},
   "outputs": [
    {
     "name": "stdout",
     "output_type": "stream",
     "text": [
      "Model: \"sequential_4\"\n",
      "_________________________________________________________________\n",
      " Layer (type)                Output Shape              Param #   \n",
      "=================================================================\n",
      " dense_12 (Dense)            (None, 64)                832       \n",
      "                                                                 \n",
      " dense_13 (Dense)            (None, 32)                2080      \n",
      "                                                                 \n",
      " dense_14 (Dense)            (None, 1)                 33        \n",
      "                                                                 \n",
      "=================================================================\n",
      "Total params: 2945 (11.50 KB)\n",
      "Trainable params: 2945 (11.50 KB)\n",
      "Non-trainable params: 0 (0.00 Byte)\n",
      "_________________________________________________________________\n"
     ]
    }
   ],
   "source": [
    "# Build the model\n",
    "model = Sequential([\n",
    "    Dense(64, activation='relu', input_shape=(X_train.shape[1],)), # HL1 connected with input layer\n",
    "    Dense(32, activation='relu'), # HL2\n",
    "    Dense(1) # output layer\n",
    "])\n",
    "\n",
    "# compile the model\n",
    "model.compile(optimizer='adam', loss='mean_absolute_error', metrics=['mae'])\n",
    "\n",
    "model.summary()"
   ]
  },
  {
   "cell_type": "code",
   "execution_count": 21,
   "metadata": {},
   "outputs": [],
   "source": [
    "from tensorflow.keras.callbacks import EarlyStopping, TensorBoard\n",
    "import datetime\n",
    "\n",
    "# Set up TensorBoard\n",
    "log_dir = 'regressionlogs/fit/'+ datetime.datetime.now().strftime(\"%Y%m%d-%H%M%S\")\n",
    "tensorboard_callback = TensorBoard(log_dir=log_dir, histogram_freq=1)"
   ]
  },
  {
   "cell_type": "code",
   "execution_count": 23,
   "metadata": {},
   "outputs": [],
   "source": [
    "# set up early stopping\n",
    "early_stopping_callback = EarlyStopping(monitor='val_loss',patience=10, restore_best_weights=True)"
   ]
  },
  {
   "cell_type": "code",
   "execution_count": 24,
   "metadata": {},
   "outputs": [
    {
     "name": "stdout",
     "output_type": "stream",
     "text": [
      "Epoch 1/100\n",
      "WARNING:tensorflow:From c:\\projects\\ANN_Classification\\venv\\Lib\\site-packages\\keras\\src\\utils\\tf_utils.py:492: The name tf.ragged.RaggedTensorValue is deprecated. Please use tf.compat.v1.ragged.RaggedTensorValue instead.\n",
      "\n",
      "WARNING:tensorflow:From c:\\projects\\ANN_Classification\\venv\\Lib\\site-packages\\keras\\src\\engine\\base_layer_utils.py:384: The name tf.executing_eagerly_outside_functions is deprecated. Please use tf.compat.v1.executing_eagerly_outside_functions instead.\n",
      "\n",
      "219/219 [==============================] - 2s 3ms/step - loss: 100794.1797 - mae: 100794.1797 - val_loss: 98253.3047 - val_mae: 98253.3047\n",
      "Epoch 2/100\n",
      "219/219 [==============================] - 0s 2ms/step - loss: 100377.5781 - mae: 100377.5781 - val_loss: 97405.8359 - val_mae: 97405.8359\n",
      "Epoch 3/100\n",
      "219/219 [==============================] - 0s 2ms/step - loss: 98894.2344 - mae: 98894.2344 - val_loss: 95183.5938 - val_mae: 95183.5938\n",
      "Epoch 4/100\n",
      "219/219 [==============================] - 0s 2ms/step - loss: 95848.1250 - mae: 95848.1250 - val_loss: 91246.4844 - val_mae: 91246.4844\n",
      "Epoch 5/100\n",
      "219/219 [==============================] - 0s 2ms/step - loss: 91126.9375 - mae: 91126.9375 - val_loss: 85695.3828 - val_mae: 85695.3828\n",
      "Epoch 6/100\n",
      "219/219 [==============================] - 0s 2ms/step - loss: 84902.3359 - mae: 84902.3359 - val_loss: 78931.8516 - val_mae: 78931.8516\n",
      "Epoch 7/100\n",
      "219/219 [==============================] - 0s 2ms/step - loss: 77744.4766 - mae: 77744.4766 - val_loss: 71750.3438 - val_mae: 71750.3438\n",
      "Epoch 8/100\n",
      "219/219 [==============================] - 0s 2ms/step - loss: 70429.5469 - mae: 70429.5469 - val_loss: 64916.5234 - val_mae: 64916.5234\n",
      "Epoch 9/100\n",
      "219/219 [==============================] - 0s 2ms/step - loss: 63807.2695 - mae: 63807.2695 - val_loss: 59311.1094 - val_mae: 59311.1094\n",
      "Epoch 10/100\n",
      "219/219 [==============================] - 1s 2ms/step - loss: 58570.6953 - mae: 58570.6953 - val_loss: 55174.8594 - val_mae: 55174.8594\n",
      "Epoch 11/100\n",
      "219/219 [==============================] - 0s 2ms/step - loss: 54955.3359 - mae: 54955.3359 - val_loss: 52562.0117 - val_mae: 52562.0117\n",
      "Epoch 12/100\n",
      "219/219 [==============================] - 0s 2ms/step - loss: 52709.9844 - mae: 52709.9844 - val_loss: 51200.4141 - val_mae: 51200.4141\n",
      "Epoch 13/100\n",
      "219/219 [==============================] - 0s 2ms/step - loss: 51445.7695 - mae: 51445.7695 - val_loss: 50574.2383 - val_mae: 50574.2383\n",
      "Epoch 14/100\n",
      "219/219 [==============================] - 0s 2ms/step - loss: 50811.7930 - mae: 50811.7930 - val_loss: 50338.8320 - val_mae: 50338.8320\n",
      "Epoch 15/100\n",
      "219/219 [==============================] - 0s 2ms/step - loss: 50511.5391 - mae: 50511.5391 - val_loss: 50235.4766 - val_mae: 50235.4766\n",
      "Epoch 16/100\n",
      "219/219 [==============================] - 0s 2ms/step - loss: 50366.7617 - mae: 50366.7617 - val_loss: 50187.1641 - val_mae: 50187.1641\n",
      "Epoch 17/100\n",
      "219/219 [==============================] - 0s 2ms/step - loss: 50289.4688 - mae: 50289.4688 - val_loss: 50149.6680 - val_mae: 50149.6680\n",
      "Epoch 18/100\n",
      "219/219 [==============================] - 0s 2ms/step - loss: 50234.2773 - mae: 50234.2773 - val_loss: 50115.7383 - val_mae: 50115.7383\n",
      "Epoch 19/100\n",
      "219/219 [==============================] - 0s 2ms/step - loss: 50190.3008 - mae: 50190.3008 - val_loss: 50088.4258 - val_mae: 50088.4258\n",
      "Epoch 20/100\n",
      "219/219 [==============================] - 1s 2ms/step - loss: 50153.4023 - mae: 50153.4023 - val_loss: 50060.8359 - val_mae: 50060.8359\n",
      "Epoch 21/100\n",
      "219/219 [==============================] - 0s 2ms/step - loss: 50119.5977 - mae: 50119.5977 - val_loss: 50030.0586 - val_mae: 50030.0586\n",
      "Epoch 22/100\n",
      "219/219 [==============================] - 0s 2ms/step - loss: 50088.3164 - mae: 50088.3164 - val_loss: 50013.3086 - val_mae: 50013.3086\n",
      "Epoch 23/100\n",
      "219/219 [==============================] - 0s 2ms/step - loss: 50058.3672 - mae: 50058.3672 - val_loss: 49986.0586 - val_mae: 49986.0586\n",
      "Epoch 24/100\n",
      "219/219 [==============================] - 0s 2ms/step - loss: 50032.6133 - mae: 50032.6133 - val_loss: 49971.3438 - val_mae: 49971.3438\n",
      "Epoch 25/100\n",
      "219/219 [==============================] - 0s 2ms/step - loss: 50004.5938 - mae: 50004.5938 - val_loss: 49950.2188 - val_mae: 49950.2188\n",
      "Epoch 26/100\n",
      "219/219 [==============================] - 0s 2ms/step - loss: 49983.5977 - mae: 49983.5977 - val_loss: 49941.5469 - val_mae: 49941.5469\n",
      "Epoch 27/100\n",
      "219/219 [==============================] - 0s 2ms/step - loss: 49962.2305 - mae: 49962.2305 - val_loss: 49930.7422 - val_mae: 49930.7422\n",
      "Epoch 28/100\n",
      "219/219 [==============================] - 0s 2ms/step - loss: 49942.0742 - mae: 49942.0742 - val_loss: 49918.4961 - val_mae: 49918.4961\n",
      "Epoch 29/100\n",
      "219/219 [==============================] - 0s 2ms/step - loss: 49923.1953 - mae: 49923.1953 - val_loss: 49903.5352 - val_mae: 49903.5352\n",
      "Epoch 30/100\n",
      "219/219 [==============================] - 1s 2ms/step - loss: 49901.9609 - mae: 49901.9609 - val_loss: 49895.7930 - val_mae: 49895.7930\n",
      "Epoch 31/100\n",
      "219/219 [==============================] - 1s 2ms/step - loss: 49886.7227 - mae: 49886.7227 - val_loss: 49893.4883 - val_mae: 49893.4883\n",
      "Epoch 32/100\n",
      "219/219 [==============================] - 0s 2ms/step - loss: 49869.7539 - mae: 49869.7539 - val_loss: 49873.2070 - val_mae: 49873.2070\n",
      "Epoch 33/100\n",
      "219/219 [==============================] - 0s 2ms/step - loss: 49853.3398 - mae: 49853.3398 - val_loss: 49881.4648 - val_mae: 49881.4648\n",
      "Epoch 34/100\n",
      "219/219 [==============================] - 0s 2ms/step - loss: 49836.5898 - mae: 49836.5898 - val_loss: 49873.5156 - val_mae: 49873.5156\n",
      "Epoch 35/100\n",
      "219/219 [==============================] - 0s 2ms/step - loss: 49825.0938 - mae: 49825.0938 - val_loss: 49865.5039 - val_mae: 49865.5039\n",
      "Epoch 36/100\n",
      "219/219 [==============================] - 0s 2ms/step - loss: 49810.3984 - mae: 49810.3984 - val_loss: 49847.6836 - val_mae: 49847.6836\n",
      "Epoch 37/100\n",
      "219/219 [==============================] - 0s 2ms/step - loss: 49797.8750 - mae: 49797.8750 - val_loss: 49854.6016 - val_mae: 49854.6016\n",
      "Epoch 38/100\n",
      "219/219 [==============================] - 0s 2ms/step - loss: 49784.8555 - mae: 49784.8555 - val_loss: 49841.6758 - val_mae: 49841.6758\n",
      "Epoch 39/100\n",
      "219/219 [==============================] - 0s 2ms/step - loss: 49774.5820 - mae: 49774.5820 - val_loss: 49838.4531 - val_mae: 49838.4531\n",
      "Epoch 40/100\n",
      "219/219 [==============================] - 0s 2ms/step - loss: 49759.8555 - mae: 49759.8555 - val_loss: 49836.7773 - val_mae: 49836.7773\n",
      "Epoch 41/100\n",
      "219/219 [==============================] - 0s 2ms/step - loss: 49751.1992 - mae: 49751.1992 - val_loss: 49831.9219 - val_mae: 49831.9219\n",
      "Epoch 42/100\n",
      "219/219 [==============================] - 0s 2ms/step - loss: 49738.4102 - mae: 49738.4102 - val_loss: 49829.1133 - val_mae: 49829.1133\n",
      "Epoch 43/100\n",
      "219/219 [==============================] - 0s 2ms/step - loss: 49726.1719 - mae: 49726.1719 - val_loss: 49823.9219 - val_mae: 49823.9219\n",
      "Epoch 44/100\n",
      "219/219 [==============================] - 0s 2ms/step - loss: 49719.1875 - mae: 49719.1875 - val_loss: 49824.1172 - val_mae: 49824.1172\n",
      "Epoch 45/100\n",
      "219/219 [==============================] - 0s 2ms/step - loss: 49706.2656 - mae: 49706.2656 - val_loss: 49822.2070 - val_mae: 49822.2070\n",
      "Epoch 46/100\n",
      "219/219 [==============================] - 0s 2ms/step - loss: 49697.6719 - mae: 49697.6719 - val_loss: 49822.9023 - val_mae: 49822.9023\n",
      "Epoch 47/100\n",
      "219/219 [==============================] - 0s 2ms/step - loss: 49688.9141 - mae: 49688.9141 - val_loss: 49810.9492 - val_mae: 49810.9492\n",
      "Epoch 48/100\n",
      "219/219 [==============================] - 0s 2ms/step - loss: 49678.6055 - mae: 49678.6055 - val_loss: 49818.4141 - val_mae: 49818.4141\n",
      "Epoch 49/100\n",
      "219/219 [==============================] - 1s 3ms/step - loss: 49669.7617 - mae: 49669.7617 - val_loss: 49807.2734 - val_mae: 49807.2734\n",
      "Epoch 50/100\n",
      "219/219 [==============================] - 0s 2ms/step - loss: 49658.7188 - mae: 49658.7188 - val_loss: 49806.5352 - val_mae: 49806.5352\n",
      "Epoch 51/100\n",
      "219/219 [==============================] - 0s 2ms/step - loss: 49652.2500 - mae: 49652.2500 - val_loss: 49799.0117 - val_mae: 49799.0117\n",
      "Epoch 52/100\n",
      "219/219 [==============================] - 0s 2ms/step - loss: 49644.9844 - mae: 49644.9844 - val_loss: 49792.5586 - val_mae: 49792.5586\n",
      "Epoch 53/100\n",
      "219/219 [==============================] - 0s 2ms/step - loss: 49639.3281 - mae: 49639.3281 - val_loss: 49792.9688 - val_mae: 49792.9688\n",
      "Epoch 54/100\n",
      "219/219 [==============================] - 0s 2ms/step - loss: 49627.4805 - mae: 49627.4805 - val_loss: 49794.4062 - val_mae: 49794.4062\n",
      "Epoch 55/100\n",
      "219/219 [==============================] - 0s 2ms/step - loss: 49621.0625 - mae: 49621.0625 - val_loss: 49789.1992 - val_mae: 49789.1992\n",
      "Epoch 56/100\n",
      "219/219 [==============================] - 0s 2ms/step - loss: 49614.0195 - mae: 49614.0195 - val_loss: 49788.8750 - val_mae: 49788.8750\n",
      "Epoch 57/100\n",
      "219/219 [==============================] - 0s 2ms/step - loss: 49608.3281 - mae: 49608.3281 - val_loss: 49786.7188 - val_mae: 49786.7188\n",
      "Epoch 58/100\n",
      "219/219 [==============================] - 0s 2ms/step - loss: 49602.8008 - mae: 49602.8008 - val_loss: 49776.1289 - val_mae: 49776.1289\n",
      "Epoch 59/100\n",
      "219/219 [==============================] - 0s 2ms/step - loss: 49595.7695 - mae: 49595.7695 - val_loss: 49782.0273 - val_mae: 49782.0273\n",
      "Epoch 60/100\n",
      "219/219 [==============================] - 0s 2ms/step - loss: 49592.3203 - mae: 49592.3203 - val_loss: 49784.6758 - val_mae: 49784.6758\n",
      "Epoch 61/100\n",
      "219/219 [==============================] - 0s 2ms/step - loss: 49585.6562 - mae: 49585.6562 - val_loss: 49786.4531 - val_mae: 49786.4531\n",
      "Epoch 62/100\n",
      "219/219 [==============================] - 0s 2ms/step - loss: 49578.9531 - mae: 49578.9531 - val_loss: 49796.6016 - val_mae: 49796.6016\n",
      "Epoch 63/100\n",
      "219/219 [==============================] - 0s 2ms/step - loss: 49571.4883 - mae: 49571.4883 - val_loss: 49796.8164 - val_mae: 49796.8164\n",
      "Epoch 64/100\n",
      "219/219 [==============================] - 1s 2ms/step - loss: 49567.1406 - mae: 49567.1406 - val_loss: 49789.5000 - val_mae: 49789.5000\n",
      "Epoch 65/100\n",
      "219/219 [==============================] - 1s 2ms/step - loss: 49561.6289 - mae: 49561.6289 - val_loss: 49794.4961 - val_mae: 49794.4961\n",
      "Epoch 66/100\n",
      "219/219 [==============================] - 0s 2ms/step - loss: 49561.0000 - mae: 49561.0000 - val_loss: 49802.8594 - val_mae: 49802.8594\n",
      "Epoch 67/100\n",
      "219/219 [==============================] - 1s 2ms/step - loss: 49551.9805 - mae: 49551.9805 - val_loss: 49807.8086 - val_mae: 49807.8086\n",
      "Epoch 68/100\n",
      "219/219 [==============================] - 0s 2ms/step - loss: 49546.8398 - mae: 49546.8398 - val_loss: 49792.3398 - val_mae: 49792.3398\n"
     ]
    }
   ],
   "source": [
    "# Training the model\n",
    "history = model.fit(\n",
    "    X_train, y_train, validation_data=(X_test, y_test), epochs=100,\n",
    "    callbacks=[tensorboard_callback, early_stopping_callback]\n",
    ")"
   ]
  },
  {
   "cell_type": "code",
   "execution_count": 25,
   "metadata": {},
   "outputs": [],
   "source": [
    "%load_ext tensorboard/fit"
   ]
  },
  {
   "cell_type": "code",
   "execution_count": 27,
   "metadata": {},
   "outputs": [
    {
     "data": {
      "text/plain": [
       "Reusing TensorBoard on port 6006 (pid 8124), started 0:00:14 ago. (Use '!kill 8124' to kill it.)"
      ]
     },
     "metadata": {},
     "output_type": "display_data"
    },
    {
     "data": {
      "text/html": [
       "\n",
       "      <iframe id=\"tensorboard-frame-f42d34fc490064c3\" width=\"100%\" height=\"800\" frameborder=\"0\">\n",
       "      </iframe>\n",
       "      <script>\n",
       "        (function() {\n",
       "          const frame = document.getElementById(\"tensorboard-frame-f42d34fc490064c3\");\n",
       "          const url = new URL(\"http://localhost\");\n",
       "          const port = 6006;\n",
       "          if (port) {\n",
       "            url.port = port;\n",
       "          }\n",
       "          frame.src = url;\n",
       "        })();\n",
       "      </script>\n",
       "    "
      ],
      "text/plain": [
       "<IPython.core.display.HTML object>"
      ]
     },
     "metadata": {},
     "output_type": "display_data"
    }
   ],
   "source": [
    "%tensorboard --logdir regressionlogs/"
   ]
  },
  {
   "cell_type": "code",
   "execution_count": 28,
   "metadata": {},
   "outputs": [
    {
     "name": "stdout",
     "output_type": "stream",
     "text": [
      "94/94 [==============================] - 0s 1ms/step - loss: 49776.1289 - mae: 49776.1289\n",
      "Test MAE : 49776.12890625\n"
     ]
    }
   ],
   "source": [
    "# Evaluate model on the test data\n",
    "test_loss, test_mae = model.evaluate(X_test, y_test)\n",
    "print(f'Test MAE : {test_mae}')"
   ]
  },
  {
   "cell_type": "code",
   "execution_count": 29,
   "metadata": {},
   "outputs": [
    {
     "name": "stderr",
     "output_type": "stream",
     "text": [
      "c:\\projects\\ANN_Classification\\venv\\Lib\\site-packages\\keras\\src\\engine\\training.py:3103: UserWarning: You are saving your model as an HDF5 file via `model.save()`. This file format is considered legacy. We recommend using instead the native Keras format, e.g. `model.save('my_model.keras')`.\n",
      "  saving_api.save_model(\n"
     ]
    }
   ],
   "source": [
    "model.save('regression_model.h5')"
   ]
  },
  {
   "cell_type": "code",
   "execution_count": null,
   "metadata": {},
   "outputs": [],
   "source": []
  }
 ],
 "metadata": {
  "kernelspec": {
   "display_name": "Python 3",
   "language": "python",
   "name": "python3"
  },
  "language_info": {
   "codemirror_mode": {
    "name": "ipython",
    "version": 3
   },
   "file_extension": ".py",
   "mimetype": "text/x-python",
   "name": "python",
   "nbconvert_exporter": "python",
   "pygments_lexer": "ipython3",
   "version": "3.11.0"
  }
 },
 "nbformat": 4,
 "nbformat_minor": 2
}
