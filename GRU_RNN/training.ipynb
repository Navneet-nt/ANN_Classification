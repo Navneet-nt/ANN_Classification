{
 "cells": [
  {
   "cell_type": "code",
   "execution_count": 1,
   "metadata": {},
   "outputs": [
    {
     "name": "stderr",
     "output_type": "stream",
     "text": [
      "[nltk_data] Downloading package gutenberg to\n",
      "[nltk_data]     C:\\Users\\navne\\AppData\\Roaming\\nltk_data...\n",
      "[nltk_data]   Unzipping corpora\\gutenberg.zip.\n"
     ]
    }
   ],
   "source": [
    "# Data Collection\n",
    "import nltk\n",
    "nltk.download('gutenberg')\n",
    "from nltk.corpus import gutenberg\n",
    "import pandas as pd\n",
    "\n",
    "# Load the Dataset\n",
    "data = gutenberg.raw('shakespeare-hamlet.txt')\n",
    "\n",
    "# save to a file\n",
    "with open('hamlet.txt', 'w') as file:\n",
    "    file.write(data)"
   ]
  },
  {
   "cell_type": "code",
   "execution_count": null,
   "metadata": {},
   "outputs": [
    {
     "data": {
      "text/plain": [
       "4818"
      ]
     },
     "execution_count": 5,
     "metadata": {},
     "output_type": "execute_result"
    }
   ],
   "source": [
    "# Data preprocessing\n",
    "\n",
    "import numpy as np\n",
    "from tensorflow.keras.preprocessing.text import Tokenizer\n",
    "from tensorflow.keras.preprocessing.sequence import pad_sequences\n",
    "from sklearn.model_selection import train_test_split\n",
    "\n",
    "# Load the dataset\n",
    "with open('hamlet.txt', 'r') as file:\n",
    "    text = file.read().lower()\n",
    "\n",
    "# Tokenize the text and creating indexes for words\n",
    "tokenizer = Tokenizer()\n",
    "tokenizer.fit_on_texts([text])\n",
    "total_words = len(tokenizer.word_index)+1\n",
    "total_words\n",
    "\n"
   ]
  },
  {
   "cell_type": "code",
   "execution_count": 6,
   "metadata": {},
   "outputs": [],
   "source": [
    "# Create input sequence\n",
    "inputsequences = []\n",
    "for line in text.split('\\n'):\n",
    "    token_list = tokenizer.texts_to_sequences([line])[0]\n",
    "    for i in range(1, len(token_list)):\n",
    "        n_gram_sequence = token_list[:i+1]\n",
    "        inputsequences.append(n_gram_sequence)"
   ]
  },
  {
   "cell_type": "code",
   "execution_count": 7,
   "metadata": {},
   "outputs": [
    {
     "data": {
      "text/plain": [
       "14"
      ]
     },
     "execution_count": 7,
     "metadata": {},
     "output_type": "execute_result"
    }
   ],
   "source": [
    "# pad sequences\n",
    "max_sequence_len = max([len(x) for x in inputsequences])\n",
    "max_sequence_len\n"
   ]
  },
  {
   "cell_type": "code",
   "execution_count": 9,
   "metadata": {},
   "outputs": [
    {
     "data": {
      "text/plain": [
       "array([[   0,    0,    0, ...,    0,    1,  687],\n",
       "       [   0,    0,    0, ...,    1,  687,    4],\n",
       "       [   0,    0,    0, ...,  687,    4,   45],\n",
       "       ...,\n",
       "       [   0,    0,    0, ...,    4,   45, 1047],\n",
       "       [   0,    0,    0, ...,   45, 1047,    4],\n",
       "       [   0,    0,    0, ..., 1047,    4,  193]])"
      ]
     },
     "execution_count": 9,
     "metadata": {},
     "output_type": "execute_result"
    }
   ],
   "source": [
    "input_sequences = np.array(pad_sequences(inputsequences, maxlen=max_sequence_len, padding='pre'))\n",
    "input_sequences"
   ]
  },
  {
   "cell_type": "code",
   "execution_count": 10,
   "metadata": {},
   "outputs": [
    {
     "data": {
      "text/plain": [
       "array([[   0,    0,    0, ...,    0,    0,    1],\n",
       "       [   0,    0,    0, ...,    0,    1,  687],\n",
       "       [   0,    0,    0, ...,    1,  687,    4],\n",
       "       ...,\n",
       "       [   0,    0,    0, ...,  687,    4,   45],\n",
       "       [   0,    0,    0, ...,    4,   45, 1047],\n",
       "       [   0,    0,    0, ...,   45, 1047,    4]])"
      ]
     },
     "execution_count": 10,
     "metadata": {},
     "output_type": "execute_result"
    }
   ],
   "source": [
    "# create predictors and labels\n",
    "import tensorflow as tf\n",
    "x, y = input_sequences[:, :-1], input_sequences[:, -1]\n",
    "x"
   ]
  },
  {
   "cell_type": "code",
   "execution_count": 11,
   "metadata": {},
   "outputs": [
    {
     "data": {
      "text/plain": [
       "array([ 687,    4,   45, ..., 1047,    4,  193])"
      ]
     },
     "execution_count": 11,
     "metadata": {},
     "output_type": "execute_result"
    }
   ],
   "source": [
    "y"
   ]
  },
  {
   "cell_type": "code",
   "execution_count": 12,
   "metadata": {},
   "outputs": [
    {
     "data": {
      "text/plain": [
       "array([[0., 0., 0., ..., 0., 0., 0.],\n",
       "       [0., 0., 0., ..., 0., 0., 0.],\n",
       "       [0., 0., 0., ..., 0., 0., 0.],\n",
       "       ...,\n",
       "       [0., 0., 0., ..., 0., 0., 0.],\n",
       "       [0., 0., 0., ..., 0., 0., 0.],\n",
       "       [0., 0., 0., ..., 0., 0., 0.]], dtype=float32)"
      ]
     },
     "execution_count": 12,
     "metadata": {},
     "output_type": "execute_result"
    }
   ],
   "source": [
    "y = tf.keras.utils.to_categorical(y, num_classes=total_words)\n",
    "y"
   ]
  },
  {
   "cell_type": "code",
   "execution_count": 13,
   "metadata": {},
   "outputs": [],
   "source": [
    "# Split the data into training and testing sets\n",
    "x_train, x_test, y_train, y_test = train_test_split(x, y, test_size=0.2)"
   ]
  },
  {
   "cell_type": "code",
   "execution_count": 19,
   "metadata": {},
   "outputs": [
    {
     "name": "stdout",
     "output_type": "stream",
     "text": [
      "Model: \"sequential_2\"\n",
      "_________________________________________________________________\n",
      " Layer (type)                Output Shape              Param #   \n",
      "=================================================================\n",
      " embedding_2 (Embedding)     (None, 13, 100)           481800    \n",
      "                                                                 \n",
      " lstm_3 (LSTM)               (None, 13, 150)           150600    \n",
      "                                                                 \n",
      " dropout_1 (Dropout)         (None, 13, 150)           0         \n",
      "                                                                 \n",
      " lstm_4 (LSTM)               (None, 100)               100400    \n",
      "                                                                 \n",
      " dense_1 (Dense)             (None, 4818)              486618    \n",
      "                                                                 \n",
      "=================================================================\n",
      "Total params: 1219418 (4.65 MB)\n",
      "Trainable params: 1219418 (4.65 MB)\n",
      "Non-trainable params: 0 (0.00 Byte)\n",
      "_________________________________________________________________\n"
     ]
    }
   ],
   "source": [
    "# Train our LSTM RNN \n",
    "from tensorflow.keras.models import Sequential\n",
    "from tensorflow.keras.layers import Embedding, LSTM, Dense, Dropout\n",
    "\n",
    "# Define the model\n",
    "model = Sequential()\n",
    "model.add(Embedding(total_words, 100, input_length=max_sequence_len-1))\n",
    "model.add(LSTM(150, return_sequences=True))\n",
    "model.add(Dropout(0.2))\n",
    "model.add(LSTM(100))\n",
    "model.add(Dense(total_words, activation='softmax'))\n",
    "\n",
    "# compile the model\n",
    "model.compile(loss='categorical_crossentropy', optimizer='adam', metrics=['accuracy'])\n",
    "model.summary()\n"
   ]
  },
  {
   "cell_type": "code",
   "execution_count": 20,
   "metadata": {},
   "outputs": [
    {
     "name": "stdout",
     "output_type": "stream",
     "text": [
      "Epoch 1/50\n",
      "WARNING:tensorflow:From c:\\projects\\ANN_Classification\\venv\\Lib\\site-packages\\keras\\src\\utils\\tf_utils.py:492: The name tf.ragged.RaggedTensorValue is deprecated. Please use tf.compat.v1.ragged.RaggedTensorValue instead.\n",
      "\n",
      "WARNING:tensorflow:From c:\\projects\\ANN_Classification\\venv\\Lib\\site-packages\\keras\\src\\engine\\base_layer_utils.py:384: The name tf.executing_eagerly_outside_functions is deprecated. Please use tf.compat.v1.executing_eagerly_outside_functions instead.\n",
      "\n",
      "644/644 [==============================] - 28s 35ms/step - loss: 6.8927 - accuracy: 0.0335 - val_loss: 6.7641 - val_accuracy: 0.0342\n",
      "Epoch 2/50\n",
      "644/644 [==============================] - 30s 46ms/step - loss: 6.4521 - accuracy: 0.0390 - val_loss: 6.8487 - val_accuracy: 0.0404\n",
      "Epoch 3/50\n",
      "644/644 [==============================] - 33s 51ms/step - loss: 6.3032 - accuracy: 0.0471 - val_loss: 6.9039 - val_accuracy: 0.0497\n",
      "Epoch 4/50\n",
      "644/644 [==============================] - 34s 53ms/step - loss: 6.1580 - accuracy: 0.0519 - val_loss: 6.9412 - val_accuracy: 0.0490\n",
      "Epoch 5/50\n",
      "644/644 [==============================] - 33s 51ms/step - loss: 6.0184 - accuracy: 0.0566 - val_loss: 6.9921 - val_accuracy: 0.0536\n",
      "Epoch 6/50\n",
      "644/644 [==============================] - 33s 51ms/step - loss: 5.8812 - accuracy: 0.0627 - val_loss: 7.0530 - val_accuracy: 0.0542\n",
      "Epoch 7/50\n",
      "644/644 [==============================] - 32s 49ms/step - loss: 5.7463 - accuracy: 0.0696 - val_loss: 7.0886 - val_accuracy: 0.0595\n",
      "Epoch 8/50\n",
      "644/644 [==============================] - 33s 52ms/step - loss: 5.6100 - accuracy: 0.0772 - val_loss: 7.1537 - val_accuracy: 0.0602\n",
      "Epoch 9/50\n",
      "644/644 [==============================] - 33s 51ms/step - loss: 5.4772 - accuracy: 0.0836 - val_loss: 7.2598 - val_accuracy: 0.0628\n",
      "Epoch 10/50\n",
      "644/644 [==============================] - 31s 49ms/step - loss: 5.3437 - accuracy: 0.0902 - val_loss: 7.3258 - val_accuracy: 0.0657\n",
      "Epoch 11/50\n",
      "644/644 [==============================] - 30s 47ms/step - loss: 5.2165 - accuracy: 0.0977 - val_loss: 7.3655 - val_accuracy: 0.0668\n",
      "Epoch 12/50\n",
      "644/644 [==============================] - 32s 50ms/step - loss: 5.0895 - accuracy: 0.1039 - val_loss: 7.4512 - val_accuracy: 0.0643\n",
      "Epoch 13/50\n",
      "644/644 [==============================] - 32s 50ms/step - loss: 4.9713 - accuracy: 0.1108 - val_loss: 7.5860 - val_accuracy: 0.0629\n",
      "Epoch 14/50\n",
      "644/644 [==============================] - 39s 61ms/step - loss: 4.8563 - accuracy: 0.1157 - val_loss: 7.6866 - val_accuracy: 0.0626\n",
      "Epoch 15/50\n",
      "644/644 [==============================] - 38s 60ms/step - loss: 4.7485 - accuracy: 0.1218 - val_loss: 7.8495 - val_accuracy: 0.0639\n",
      "Epoch 16/50\n",
      "644/644 [==============================] - 35s 55ms/step - loss: 4.6390 - accuracy: 0.1264 - val_loss: 7.9261 - val_accuracy: 0.0618\n",
      "Epoch 17/50\n",
      "644/644 [==============================] - 39s 61ms/step - loss: 4.5306 - accuracy: 0.1333 - val_loss: 8.0698 - val_accuracy: 0.0626\n",
      "Epoch 18/50\n",
      "644/644 [==============================] - 31s 48ms/step - loss: 4.4268 - accuracy: 0.1398 - val_loss: 8.2379 - val_accuracy: 0.0645\n",
      "Epoch 19/50\n",
      "644/644 [==============================] - 33s 51ms/step - loss: 4.3246 - accuracy: 0.1478 - val_loss: 8.3353 - val_accuracy: 0.0635\n",
      "Epoch 20/50\n",
      "644/644 [==============================] - 36s 55ms/step - loss: 4.2226 - accuracy: 0.1578 - val_loss: 8.4996 - val_accuracy: 0.0629\n",
      "Epoch 21/50\n",
      "644/644 [==============================] - 26s 40ms/step - loss: 4.1270 - accuracy: 0.1693 - val_loss: 8.6405 - val_accuracy: 0.0612\n",
      "Epoch 22/50\n",
      "644/644 [==============================] - 26s 40ms/step - loss: 4.0343 - accuracy: 0.1846 - val_loss: 8.7411 - val_accuracy: 0.0614\n",
      "Epoch 23/50\n",
      "644/644 [==============================] - 26s 40ms/step - loss: 3.9473 - accuracy: 0.1938 - val_loss: 8.9171 - val_accuracy: 0.0651\n",
      "Epoch 24/50\n",
      "644/644 [==============================] - 27s 43ms/step - loss: 3.8627 - accuracy: 0.2098 - val_loss: 9.0329 - val_accuracy: 0.0624\n",
      "Epoch 25/50\n",
      "644/644 [==============================] - 32s 49ms/step - loss: 3.7900 - accuracy: 0.2217 - val_loss: 9.1674 - val_accuracy: 0.0637\n",
      "Epoch 26/50\n",
      "644/644 [==============================] - 34s 53ms/step - loss: 3.7109 - accuracy: 0.2362 - val_loss: 9.2744 - val_accuracy: 0.0622\n",
      "Epoch 27/50\n",
      "644/644 [==============================] - 27s 42ms/step - loss: 3.6370 - accuracy: 0.2486 - val_loss: 9.4102 - val_accuracy: 0.0631\n",
      "Epoch 28/50\n",
      "644/644 [==============================] - 26s 40ms/step - loss: 3.5692 - accuracy: 0.2585 - val_loss: 9.5212 - val_accuracy: 0.0608\n",
      "Epoch 29/50\n",
      "644/644 [==============================] - 29s 45ms/step - loss: 3.5065 - accuracy: 0.2708 - val_loss: 9.6299 - val_accuracy: 0.0577\n",
      "Epoch 30/50\n",
      "644/644 [==============================] - 40s 62ms/step - loss: 3.4372 - accuracy: 0.2814 - val_loss: 9.7594 - val_accuracy: 0.0600\n",
      "Epoch 31/50\n",
      "644/644 [==============================] - 32s 50ms/step - loss: 3.3776 - accuracy: 0.2923 - val_loss: 9.8288 - val_accuracy: 0.0606\n",
      "Epoch 32/50\n",
      "644/644 [==============================] - 30s 46ms/step - loss: 3.3218 - accuracy: 0.2994 - val_loss: 9.9294 - val_accuracy: 0.0610\n",
      "Epoch 33/50\n",
      "644/644 [==============================] - 32s 50ms/step - loss: 3.2702 - accuracy: 0.3112 - val_loss: 10.0245 - val_accuracy: 0.0614\n",
      "Epoch 34/50\n",
      "644/644 [==============================] - 28s 44ms/step - loss: 3.2125 - accuracy: 0.3207 - val_loss: 10.1408 - val_accuracy: 0.0581\n",
      "Epoch 35/50\n",
      "644/644 [==============================] - 26s 40ms/step - loss: 3.1704 - accuracy: 0.3248 - val_loss: 10.2389 - val_accuracy: 0.0573\n",
      "Epoch 36/50\n",
      "644/644 [==============================] - 15s 23ms/step - loss: 3.1159 - accuracy: 0.3364 - val_loss: 10.2733 - val_accuracy: 0.0550\n",
      "Epoch 37/50\n",
      "644/644 [==============================] - 15s 23ms/step - loss: 3.0709 - accuracy: 0.3470 - val_loss: 10.3820 - val_accuracy: 0.0577\n",
      "Epoch 38/50\n",
      "644/644 [==============================] - 19s 30ms/step - loss: 3.0228 - accuracy: 0.3566 - val_loss: 10.4655 - val_accuracy: 0.0569\n",
      "Epoch 39/50\n",
      "644/644 [==============================] - 29s 44ms/step - loss: 2.9766 - accuracy: 0.3656 - val_loss: 10.5817 - val_accuracy: 0.0577\n",
      "Epoch 40/50\n",
      "644/644 [==============================] - 32s 50ms/step - loss: 2.9351 - accuracy: 0.3721 - val_loss: 10.6296 - val_accuracy: 0.0591\n",
      "Epoch 41/50\n",
      "644/644 [==============================] - 32s 50ms/step - loss: 2.8941 - accuracy: 0.3815 - val_loss: 10.7090 - val_accuracy: 0.0561\n",
      "Epoch 42/50\n",
      "644/644 [==============================] - 33s 52ms/step - loss: 2.8487 - accuracy: 0.3884 - val_loss: 10.7727 - val_accuracy: 0.0577\n",
      "Epoch 43/50\n",
      "644/644 [==============================] - 34s 54ms/step - loss: 2.8164 - accuracy: 0.3944 - val_loss: 10.8350 - val_accuracy: 0.0558\n",
      "Epoch 44/50\n",
      "644/644 [==============================] - 34s 52ms/step - loss: 2.7777 - accuracy: 0.4024 - val_loss: 10.9325 - val_accuracy: 0.0552\n",
      "Epoch 45/50\n",
      "644/644 [==============================] - 35s 55ms/step - loss: 2.7376 - accuracy: 0.4066 - val_loss: 10.9917 - val_accuracy: 0.0581\n",
      "Epoch 46/50\n",
      "644/644 [==============================] - 35s 55ms/step - loss: 2.6966 - accuracy: 0.4146 - val_loss: 11.0696 - val_accuracy: 0.0548\n",
      "Epoch 47/50\n",
      "644/644 [==============================] - 33s 51ms/step - loss: 2.6686 - accuracy: 0.4234 - val_loss: 11.1367 - val_accuracy: 0.0558\n",
      "Epoch 48/50\n",
      "644/644 [==============================] - 35s 54ms/step - loss: 2.6306 - accuracy: 0.4266 - val_loss: 11.2051 - val_accuracy: 0.0523\n",
      "Epoch 49/50\n",
      "644/644 [==============================] - 32s 50ms/step - loss: 2.5998 - accuracy: 0.4352 - val_loss: 11.2642 - val_accuracy: 0.0575\n",
      "Epoch 50/50\n",
      "644/644 [==============================] - 32s 50ms/step - loss: 2.5658 - accuracy: 0.4413 - val_loss: 11.3338 - val_accuracy: 0.0546\n"
     ]
    }
   ],
   "source": [
    "# Train the model\n",
    "history = model.fit(x_train, y_train, epochs=50, validation_data=(x_test, y_test), verbose=1)"
   ]
  },
  {
   "cell_type": "code",
   "execution_count": null,
   "metadata": {},
   "outputs": [],
   "source": []
  }
 ],
 "metadata": {
  "kernelspec": {
   "display_name": "Python 3",
   "language": "python",
   "name": "python3"
  },
  "language_info": {
   "codemirror_mode": {
    "name": "ipython",
    "version": 3
   },
   "file_extension": ".py",
   "mimetype": "text/x-python",
   "name": "python",
   "nbconvert_exporter": "python",
   "pygments_lexer": "ipython3",
   "version": "3.11.0"
  }
 },
 "nbformat": 4,
 "nbformat_minor": 2
}
